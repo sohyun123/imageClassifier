{
 "cells": [
  {
   "cell_type": "code",
   "execution_count": null,
   "metadata": {
    "id": "AQEm48L76ZGt"
   },
   "outputs": [],
   "source": [
    "from fastai.vision.all import *\n",
    "from fastai.vision.widgets import *"
   ]
  },
  {
   "cell_type": "markdown",
   "metadata": {
    "id": "yK1u5vlz7DYs"
   },
   "source": [
    "## Tree Type Classifier : Cactus, Succulent or Tree\n",
    "### Do you want to know what kind of tree it is?\n",
    "Just simply upload a picture!"
   ]
  },
  {
   "cell_type": "code",
   "execution_count": null,
   "metadata": {
    "id": "fHrw53nM7CPX"
   },
   "outputs": [],
   "source": [
    "path = Path()\n",
    "learn_inf = load_learner(path/'export.pkl', cpu=True)\n",
    "btn_upload = widgets.FileUpload()\n",
    "out_pl = widgets.Output()\n",
    "lbl_pred = widgets.Label()\n",
    "btn_run = widgets.Button(description='Classify')"
   ]
  },
  {
   "cell_type": "code",
   "execution_count": null,
   "metadata": {
    "id": "l3OIZWeU7pea"
   },
   "outputs": [],
   "source": [
    "def on_click_classify(change):    \n",
    "    lbl_pred.value = ''     \n",
    "    img = PILImage.create(btn_upload.data[-1])     \n",
    "    out_pl.clear_output()     \n",
    "    with out_pl: display(img.to_thumb(128,128))     \n",
    "    pred,pred_idx,probs = learn_inf.predict(img)    \n",
    "    lbl_pred.value = f'::RESULT:: Prediction: {pred} | Probability: {probs[pred_idx]:.04f}'"
   ]
  },
  {
   "cell_type": "code",
   "execution_count": null,
   "metadata": {
    "id": "AV7lVOuG7snu"
   },
   "outputs": [],
   "source": [
    "btn_upload = widgets.FileUpload()"
   ]
  },
  {
   "cell_type": "code",
   "execution_count": null,
   "metadata": {},
   "outputs": [],
   "source": [
    "btn_run.on_click(on_click_classify)"
   ]
  },
  {
   "cell_type": "code",
   "execution_count": null,
   "metadata": {
    "id": "fyGVtNS57zQ5"
   },
   "outputs": [],
   "source": [
    "display(VBox([widgets.Label('Upload a tree picture [ Cactus | Succulent | Tree ]: '), \n",
    "              btn_upload, btn_run, out_pl, lbl_pred]))"
   ]
  }
 ],
 "metadata": {
  "colab": {
   "name": "Untitled1.ipynb",
   "provenance": []
  },
  "kernelspec": {
   "display_name": "Python 3",
   "language": "python",
   "name": "python3"
  },
  "language_info": {
   "codemirror_mode": {
    "name": "ipython",
    "version": 3
   },
   "file_extension": ".py",
   "mimetype": "text/x-python",
   "name": "python",
   "nbconvert_exporter": "python",
   "pygments_lexer": "ipython3",
   "version": "3.8.5"
  }
 },
 "nbformat": 4,
 "nbformat_minor": 1
}
