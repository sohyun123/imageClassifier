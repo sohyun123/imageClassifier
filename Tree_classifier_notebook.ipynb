{
  "nbformat": 4,
  "nbformat_minor": 0,
  "metadata": {
    "colab": {
      "name": "Untitled1.ipynb",
      "provenance": []
    },
    "kernelspec": {
      "name": "python3",
      "display_name": "Python 3"
    }
  },
  "cells": [
    {
      "cell_type": "code",
      "metadata": {
        "id": "AQEm48L76ZGt"
      },
      "source": [
        "from fastai.vision.all import *\n",
        "from fastai.vision.widgets import *"
      ],
      "execution_count": null,
      "outputs": []
    },
    {
      "cell_type": "markdown",
      "metadata": {
        "id": "yK1u5vlz7DYs"
      },
      "source": [
        "## Tree Type Classifier : Cactus, Succulent or Tree\n",
        "### Do you want to know what kind of tree it is?\n",
        "Just simply upload a picture!"
      ]
    },
    {
      "cell_type": "code",
      "metadata": {
        "id": "fHrw53nM7CPX"
      },
      "source": [
        "learn_inf = load_learner(path/'export_tree.pkl', cpu=True)\n",
        "btn_upload = widgets.FileUpload()\n",
        "out_pl = widgets.Output()\n",
        "lbl_pred = widgets.Label()\n",
        "btn_run = widgets.Button(description='Classify')"
      ],
      "execution_count": null,
      "outputs": []
    },
    {
      "cell_type": "markdown",
      "metadata": {
        "id": "E-hbgKxl775D"
      },
      "source": [
        "When clicked"
      ]
    },
    {
      "cell_type": "code",
      "metadata": {
        "id": "l3OIZWeU7pea"
      },
      "source": [
        "def on_click_classify(change):    \n",
        "    lbl_pred.value = ''     \n",
        "    img = PILImage.create(btn_upload.data[-1])     \n",
        "    out_pl.clear_output()     \n",
        "    with out_pl: display(img.to_thumb(128,128))     \n",
        "    pred,pred_idx,probs = learn_inf.predict(img)    \n",
        "    lbl_pred.value = f'Prediction: {pred} | Probability: {probs[pred_idx]:.04f}'"
      ],
      "execution_count": null,
      "outputs": []
    },
    {
      "cell_type": "code",
      "metadata": {
        "id": "AV7lVOuG7snu"
      },
      "source": [
        "btn_upload = widgets.FileUpload()\n",
        "btn_run.on_click(on_click_classify)"
      ],
      "execution_count": null,
      "outputs": []
    },
    {
      "cell_type": "code",
      "metadata": {
        "id": "fyGVtNS57zQ5"
      },
      "source": [
        "display(VBox([widgets.Label('Upload a tree picture [ Cactus | Succulent | Tree ]: '), \n",
        "              btn_upload, btn_run, out_pl, lbl_pred]))"
      ],
      "execution_count": null,
      "outputs": []
    }
  ]
}